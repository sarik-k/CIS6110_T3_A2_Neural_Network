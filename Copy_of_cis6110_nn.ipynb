{
  "nbformat": 4,
  "nbformat_minor": 0,
  "metadata": {
    "colab": {
      "provenance": [],
      "toc_visible": true,
      "include_colab_link": true
    },
    "kernelspec": {
      "name": "python3",
      "display_name": "Python 3"
    },
    "language_info": {
      "name": "python"
    }
  },
  "cells": [
    {
      "cell_type": "markdown",
      "metadata": {
        "id": "view-in-github",
        "colab_type": "text"
      },
      "source": [
        "<a href=\"https://colab.research.google.com/github/sarik-k/CIS6110_T3_A2_Neural_Network/blob/main/Copy_of_cis6110_nn.ipynb\" target=\"_parent\"><img src=\"https://colab.research.google.com/assets/colab-badge.svg\" alt=\"Open In Colab\"/></a>"
      ]
    },
    {
      "cell_type": "markdown",
      "source": [
        "# CIS6110 Sentiment Analysis Using Neural Networks\n",
        "- Assessment 2 - Practical\n",
        "- Trimester 3, 2024\n",
        "- Course Examiner: KC Chan"
      ],
      "metadata": {
        "id": "QwcpUw6O0DhP"
      }
    },
    {
      "cell_type": "markdown",
      "source": [
        "## Overview\n",
        "\n",
        "This assignment will introduce you to the concepts of sentiment analysis using machine learning and deep learning techniques. The assignment is divided into three parts:\n",
        "\n",
        "1. **Traditional Machine Learning with Neural Networks and Feature Engineering (Ungraded)**\n",
        "    - Objective: Build a simple neural network for sentiment analysis using traditional feature engineering techniques.\n",
        "    - Steps:\n",
        "        1. Data Loading and Preparation:\n",
        "            - Load the IMDB reviews dataset.\n",
        "            - Preprocess the text data (tokenization, removing stop words, converting text to numerical features using TF-IDF).\n",
        "        2. Model Building:\n",
        "            - Construct a simple neural network using TensorFlow/Keras.\n",
        "        3. Training the Model:\n",
        "            - Train the model on the preprocessed data.\n",
        "            - Plot and analyse the training and validation accuracy/loss.\n",
        "        4. Evaluating the Model:\n",
        "            - Evaluate the model on the test set.\n",
        "            - Generate and analyse the classification report.\n",
        "        5. Questions and Analysis:\n",
        "            - Discuss the model’s performance and training process.\n",
        "            - Suggest improvements and modifications to the network structure.\n",
        "\n",
        "2. **Deep Learning with LSTM Networks (Graded)**\n",
        "    - Objective: Build an LSTM model for sentiment analysis.\n",
        "    - Steps:\n",
        "        1. Data Loading and Preparation:\n",
        "            - Load the IMDB reviews dataset.\n",
        "            - Preprocess the text data (tokenization, padding sequences).\n",
        "        2. Model Building:\n",
        "            - Construct an LSTM model using TensorFlow/Keras.\n",
        "        3. Training the Model:\n",
        "            - Train the model on the preprocessed data.\n",
        "            - Plot and analyse the training and validation accuracy/loss.\n",
        "        4. Evaluating the Model:\n",
        "            - Evaluate the model on the test set.\n",
        "            - Generate and analyse the classification report.\n",
        "        5. Questions and Analysis:\n",
        "            - Discuss the model’s performance and training process.\n",
        "            - Suggest improvements and modifications to the network structure.\n",
        "\n",
        "3. **Deep Learning with Transformer-based Models - BERT (Bonus)**\n",
        "    - Objective: Use a pre-trained BERT model for sentiment analysis.\n",
        "    - Steps:\n",
        "        1. Data Loading and Preparation:\n",
        "            - Load the IMDB reviews dataset.\n",
        "            - Preprocess the text data (tokenization using BERT tokenizer, padding sequences).\n",
        "        2. Model Building:\n",
        "            - Use a pre-trained BERT model and fine-tune it for sentiment analysis.\n",
        "        3. Training the Model:\n",
        "            - Train the model on the preprocessed data.\n",
        "            - Plot and analyse the training and validation accuracy/loss.\n",
        "        4. Evaluating the Model:\n",
        "            - Evaluate the model on the test set.\n",
        "            - Generate and analyse the classification report.\n",
        "        5. Questions and Analysis:\n",
        "            - Discuss the model’s performance and training process.\n",
        "            - Suggest improvements and modifications to the network structure.\n",
        "\n",
        "**Submission:** Once you have completed all the parts and answered the questions, share the Colab URL for marking.\n"
      ],
      "metadata": {
        "id": "722i0pKkr-qf"
      }
    },
    {
      "cell_type": "markdown",
      "source": [
        "# Machine Learning with Neural Networks and Feature Engineering (For Practice, Ungraded)\n",
        "\n",
        "- Objective: Build a simple neural network for sentiment analysis using traditional feature engineering techniques.\n",
        "- Activities in this Section is for practice and will not be graded.\n"
      ],
      "metadata": {
        "id": "CNvOYj9g0mq7"
      }
    },
    {
      "cell_type": "markdown",
      "source": [
        "## Step 1: Data Loading and Preparation:\n",
        "  - Load the IMDB reviews dataset.\n",
        "  - Preprocess the text data (tokenization, removing stop words, converting text to numerical features using TF-IDF)."
      ],
      "metadata": {
        "id": "gDjDyAsV-GAH"
      }
    },
    {
      "cell_type": "code",
      "source": [
        "# This code: Load the IMDB reviews dataset\n",
        "\n",
        "# Import necessary libraries\n",
        "import numpy as np\n",
        "import pandas as pd\n",
        "import tensorflow as tf\n",
        "from tensorflow.keras.datasets import imdb\n",
        "\n",
        "# Load the IMDB dataset\n",
        "# We use only the top 10,000 most frequent words to keep the dataset manageable\n",
        "num_words = 10000\n",
        "(X_train, y_train), (X_test, y_test) = imdb.load_data(num_words=num_words)\n",
        "\n",
        "# Print the shape of data\n",
        "print(\"Training data shape:\", X_train.shape)\n",
        "print(\"Test data shape:\", X_test.shape)\n"
      ],
      "metadata": {
        "colab": {
          "base_uri": "https://localhost:8080/"
        },
        "id": "nkzErgvlAf2Y",
        "outputId": "acabe69b-ef40-4a99-82c3-4d77bb8cb458"
      },
      "execution_count": null,
      "outputs": [
        {
          "output_type": "stream",
          "name": "stdout",
          "text": [
            "Downloading data from https://storage.googleapis.com/tensorflow/tf-keras-datasets/imdb.npz\n",
            "\u001b[1m17464789/17464789\u001b[0m \u001b[32m━━━━━━━━━━━━━━━━━━━━\u001b[0m\u001b[37m\u001b[0m \u001b[1m0s\u001b[0m 0us/step\n",
            "Training data shape: (25000,)\n",
            "Test data shape: (25000,)\n"
          ]
        }
      ]
    },
    {
      "cell_type": "markdown",
      "source": [
        "**Understanding the Dataset** Self-Directed Learning\n",
        "\n",
        "Ask the [Sentiment Analysis Tutor GPT](https://chatgpt.com/g/g-xP5xBzqnx-sentiment-analysis-tutor) the following questions to understand a few concepts:\n",
        "\n",
        "1. Data Loading and Splitting\n",
        "  - What is the IMDB dataset, and how is it structured?\n",
        "  - How are the training and test sets predefined in the IMDB dataset?\n",
        "  - Why is it important to have separate training and test sets?\n",
        "\n",
        "2. Vocabulary and Tokenization\n",
        "  - What does the num_words parameter represent, and how does it affect the dataset?\n",
        "  - How are reviews converted from text to sequences of word indices?\n",
        "  - What is the role of the get_word_index() function?"
      ],
      "metadata": {
        "id": "VJtXPSO4Bua2"
      }
    },
    {
      "cell_type": "code",
      "source": [
        "# This code: Preprocess the text data: Convert word indices back to text and then apply TF-IDF to transform the text into numerical features.\n",
        "\n",
        "# Import necessary libraries\n",
        "from sklearn.feature_extraction.text import TfidfVectorizer\n",
        "\n",
        "# Function to decode the reviews back to text\n",
        "word_index = imdb.get_word_index()\n",
        "index_word = {v + 3: k for k, v in word_index.items()}\n",
        "index_word[0] = '<PAD>'\n",
        "index_word[1] = '<START>'\n",
        "index_word[2] = '<UNK>'\n",
        "index_word[3] = '<UNUSED>'\n",
        "\n",
        "def decode_review(encoded_review):\n",
        "    return ' '.join([index_word.get(i, '?') for i in encoded_review])\n",
        "\n",
        "# Decode the reviews\n",
        "X_train_text = [decode_review(review) for review in X_train]\n",
        "X_test_text = [decode_review(review) for review in X_test]\n",
        "\n",
        "# Use TF-IDF Vectorizer\n",
        "vectorizer = TfidfVectorizer(max_features=num_words, stop_words='english')\n",
        "X_train_tfidf = vectorizer.fit_transform(X_train_text).toarray()\n",
        "X_test_tfidf = vectorizer.transform(X_test_text).toarray()\n",
        "\n",
        "# Print the shape of TF-IDF features\n",
        "print(\"TF-IDF training data shape:\", X_train_tfidf.shape)\n",
        "print(\"TF-IDF test data shape:\", X_test_tfidf.shape)\n"
      ],
      "metadata": {
        "colab": {
          "base_uri": "https://localhost:8080/"
        },
        "id": "YQrjACABItyd",
        "outputId": "6bb4da63-8dfb-43de-d9ad-19142eb8766a"
      },
      "execution_count": null,
      "outputs": [
        {
          "output_type": "stream",
          "name": "stdout",
          "text": [
            "Downloading data from https://storage.googleapis.com/tensorflow/tf-keras-datasets/imdb_word_index.json\n",
            "\u001b[1m1641221/1641221\u001b[0m \u001b[32m━━━━━━━━━━━━━━━━━━━━\u001b[0m\u001b[37m\u001b[0m \u001b[1m0s\u001b[0m 0us/step\n",
            "TF-IDF training data shape: (25000, 9478)\n",
            "TF-IDF test data shape: (25000, 9478)\n"
          ]
        }
      ]
    },
    {
      "cell_type": "markdown",
      "source": [
        "**Data Preprocessing** Self-Directed Learning\n",
        "\n",
        "Explore the following questions to deepen your understanding of the concepts. You may ask the [Sentiment Analysis Tutor GPT](https://chatgpt.com/g/g-xP5xBzqnx-sentiment-analysis-tutor) for information.\n",
        "\n",
        "1. Text to Numerical Features\n",
        "  - What is tokenization, and why is it necessary?\n",
        "  - What is the purpose of using TF-IDF Vectorizer in text preprocessing?\n",
        "  - How does the TF-IDF Vectorizer transform text data into numerical features?\n",
        "\n",
        "2. Stop Words and Feature Limiting\n",
        "  - What are stop words, and why are they removed?\n",
        "  - How does limiting the vocabulary size (e.g., using num_words=10000) help in managing computational resources?"
      ],
      "metadata": {
        "id": "eTXA_BWvI-Ot"
      }
    },
    {
      "cell_type": "markdown",
      "source": [
        "## Step 2: Model Building:\n",
        "  - Construct a simple neural network using TensorFlow/Keras."
      ],
      "metadata": {
        "id": "JY_LbLGm0-hF"
      }
    },
    {
      "cell_type": "code",
      "source": [
        "# Import necessary libraries for model building\n",
        "from tensorflow.keras.models import Sequential\n",
        "from tensorflow.keras.layers import Dense, Dropout\n",
        "\n",
        "# Dynamically determine the input shape\n",
        "input_shape = X_train_tfidf.shape[1]\n",
        "\n",
        "# Define the model\n",
        "model = Sequential()\n",
        "model.add(Dense(512, input_shape=(input_shape,), activation='relu'))\n",
        "model.add(Dropout(0.5))\n",
        "model.add(Dense(1, activation='sigmoid'))\n",
        "\n",
        "# Compile the model\n",
        "model.compile(optimizer='adam', loss='binary_crossentropy', metrics=['accuracy'])\n",
        "\n",
        "# Print the model summary\n",
        "model.summary()\n"
      ],
      "metadata": {
        "colab": {
          "base_uri": "https://localhost:8080/",
          "height": 304
        },
        "id": "Ilf14Q3iAF4w",
        "outputId": "a42c85a7-e882-4070-caee-31deb6830222"
      },
      "execution_count": null,
      "outputs": [
        {
          "output_type": "stream",
          "name": "stderr",
          "text": [
            "/usr/local/lib/python3.10/dist-packages/keras/src/layers/core/dense.py:87: UserWarning: Do not pass an `input_shape`/`input_dim` argument to a layer. When using Sequential models, prefer using an `Input(shape)` object as the first layer in the model instead.\n",
            "  super().__init__(activity_regularizer=activity_regularizer, **kwargs)\n"
          ]
        },
        {
          "output_type": "display_data",
          "data": {
            "text/plain": [
              "\u001b[1mModel: \"sequential\"\u001b[0m\n"
            ],
            "text/html": [
              "<pre style=\"white-space:pre;overflow-x:auto;line-height:normal;font-family:Menlo,'DejaVu Sans Mono',consolas,'Courier New',monospace\"><span style=\"font-weight: bold\">Model: \"sequential\"</span>\n",
              "</pre>\n"
            ]
          },
          "metadata": {}
        },
        {
          "output_type": "display_data",
          "data": {
            "text/plain": [
              "┏━━━━━━━━━━━━━━━━━━━━━━━━━━━━━━━━━━━━━━┳━━━━━━━━━━━━━━━━━━━━━━━━━━━━━┳━━━━━━━━━━━━━━━━━┓\n",
              "┃\u001b[1m \u001b[0m\u001b[1mLayer (type)                        \u001b[0m\u001b[1m \u001b[0m┃\u001b[1m \u001b[0m\u001b[1mOutput Shape               \u001b[0m\u001b[1m \u001b[0m┃\u001b[1m \u001b[0m\u001b[1m        Param #\u001b[0m\u001b[1m \u001b[0m┃\n",
              "┡━━━━━━━━━━━━━━━━━━━━━━━━━━━━━━━━━━━━━━╇━━━━━━━━━━━━━━━━━━━━━━━━━━━━━╇━━━━━━━━━━━━━━━━━┩\n",
              "│ dense (\u001b[38;5;33mDense\u001b[0m)                        │ (\u001b[38;5;45mNone\u001b[0m, \u001b[38;5;34m512\u001b[0m)                 │       \u001b[38;5;34m4,853,248\u001b[0m │\n",
              "├──────────────────────────────────────┼─────────────────────────────┼─────────────────┤\n",
              "│ dropout (\u001b[38;5;33mDropout\u001b[0m)                    │ (\u001b[38;5;45mNone\u001b[0m, \u001b[38;5;34m512\u001b[0m)                 │               \u001b[38;5;34m0\u001b[0m │\n",
              "├──────────────────────────────────────┼─────────────────────────────┼─────────────────┤\n",
              "│ dense_1 (\u001b[38;5;33mDense\u001b[0m)                      │ (\u001b[38;5;45mNone\u001b[0m, \u001b[38;5;34m1\u001b[0m)                   │             \u001b[38;5;34m513\u001b[0m │\n",
              "└──────────────────────────────────────┴─────────────────────────────┴─────────────────┘\n"
            ],
            "text/html": [
              "<pre style=\"white-space:pre;overflow-x:auto;line-height:normal;font-family:Menlo,'DejaVu Sans Mono',consolas,'Courier New',monospace\">┏━━━━━━━━━━━━━━━━━━━━━━━━━━━━━━━━━━━━━━┳━━━━━━━━━━━━━━━━━━━━━━━━━━━━━┳━━━━━━━━━━━━━━━━━┓\n",
              "┃<span style=\"font-weight: bold\"> Layer (type)                         </span>┃<span style=\"font-weight: bold\"> Output Shape                </span>┃<span style=\"font-weight: bold\">         Param # </span>┃\n",
              "┡━━━━━━━━━━━━━━━━━━━━━━━━━━━━━━━━━━━━━━╇━━━━━━━━━━━━━━━━━━━━━━━━━━━━━╇━━━━━━━━━━━━━━━━━┩\n",
              "│ dense (<span style=\"color: #0087ff; text-decoration-color: #0087ff\">Dense</span>)                        │ (<span style=\"color: #00d7ff; text-decoration-color: #00d7ff\">None</span>, <span style=\"color: #00af00; text-decoration-color: #00af00\">512</span>)                 │       <span style=\"color: #00af00; text-decoration-color: #00af00\">4,853,248</span> │\n",
              "├──────────────────────────────────────┼─────────────────────────────┼─────────────────┤\n",
              "│ dropout (<span style=\"color: #0087ff; text-decoration-color: #0087ff\">Dropout</span>)                    │ (<span style=\"color: #00d7ff; text-decoration-color: #00d7ff\">None</span>, <span style=\"color: #00af00; text-decoration-color: #00af00\">512</span>)                 │               <span style=\"color: #00af00; text-decoration-color: #00af00\">0</span> │\n",
              "├──────────────────────────────────────┼─────────────────────────────┼─────────────────┤\n",
              "│ dense_1 (<span style=\"color: #0087ff; text-decoration-color: #0087ff\">Dense</span>)                      │ (<span style=\"color: #00d7ff; text-decoration-color: #00d7ff\">None</span>, <span style=\"color: #00af00; text-decoration-color: #00af00\">1</span>)                   │             <span style=\"color: #00af00; text-decoration-color: #00af00\">513</span> │\n",
              "└──────────────────────────────────────┴─────────────────────────────┴─────────────────┘\n",
              "</pre>\n"
            ]
          },
          "metadata": {}
        },
        {
          "output_type": "display_data",
          "data": {
            "text/plain": [
              "\u001b[1m Total params: \u001b[0m\u001b[38;5;34m4,853,761\u001b[0m (18.52 MB)\n"
            ],
            "text/html": [
              "<pre style=\"white-space:pre;overflow-x:auto;line-height:normal;font-family:Menlo,'DejaVu Sans Mono',consolas,'Courier New',monospace\"><span style=\"font-weight: bold\"> Total params: </span><span style=\"color: #00af00; text-decoration-color: #00af00\">4,853,761</span> (18.52 MB)\n",
              "</pre>\n"
            ]
          },
          "metadata": {}
        },
        {
          "output_type": "display_data",
          "data": {
            "text/plain": [
              "\u001b[1m Trainable params: \u001b[0m\u001b[38;5;34m4,853,761\u001b[0m (18.52 MB)\n"
            ],
            "text/html": [
              "<pre style=\"white-space:pre;overflow-x:auto;line-height:normal;font-family:Menlo,'DejaVu Sans Mono',consolas,'Courier New',monospace\"><span style=\"font-weight: bold\"> Trainable params: </span><span style=\"color: #00af00; text-decoration-color: #00af00\">4,853,761</span> (18.52 MB)\n",
              "</pre>\n"
            ]
          },
          "metadata": {}
        },
        {
          "output_type": "display_data",
          "data": {
            "text/plain": [
              "\u001b[1m Non-trainable params: \u001b[0m\u001b[38;5;34m0\u001b[0m (0.00 B)\n"
            ],
            "text/html": [
              "<pre style=\"white-space:pre;overflow-x:auto;line-height:normal;font-family:Menlo,'DejaVu Sans Mono',consolas,'Courier New',monospace\"><span style=\"font-weight: bold\"> Non-trainable params: </span><span style=\"color: #00af00; text-decoration-color: #00af00\">0</span> (0.00 B)\n",
              "</pre>\n"
            ]
          },
          "metadata": {}
        }
      ]
    },
    {
      "cell_type": "markdown",
      "source": [
        "**Model Building** Self-Directed Learning\n",
        "\n",
        "Explore the following questions to deepen your understanding of the concepts. You may ask the [Sentiment Analysis Tutor GPT](https://chatgpt.com/g/g-xP5xBzqnx-sentiment-analysis-tutor) for information.\n",
        "\n",
        "1. Neural Network Structure:\n",
        "\n",
        "  - What are the key components of a simple neural network for text classification?\n",
        "  - How does the choice of activation functions (e.g., relu, sigmoid) impact the model?\n",
        "  - Why is dropout used, and how does it help in preventing overfitting?"
      ],
      "metadata": {
        "id": "Om_yqcGF0KiE"
      }
    },
    {
      "cell_type": "markdown",
      "source": [
        "## Step 3: Training the Model:\n",
        "  - Train the model on the preprocessed data.\n",
        "  - Plot and analyze the training and validation accuracy/loss."
      ],
      "metadata": {
        "id": "oyKkEKWq_ssl"
      }
    },
    {
      "cell_type": "code",
      "source": [
        "# Train the model\n",
        "history = model.fit(X_train_tfidf, y_train, epochs=10, batch_size=512, validation_data=(X_test_tfidf, y_test), verbose=1)\n",
        "\n",
        "# Plot the training and validation accuracy/loss\n",
        "import matplotlib.pyplot as plt\n",
        "\n",
        "plt.plot(history.history['accuracy'], label='train_accuracy')\n",
        "plt.plot(history.history['val_accuracy'], label='val_accuracy')\n",
        "plt.xlabel('Epochs')\n",
        "plt.ylabel('Accuracy')\n",
        "plt.legend()\n",
        "plt.show()\n",
        "\n",
        "plt.plot(history.history['loss'], label='train_loss')\n",
        "plt.plot(history.history['val_loss'], label='val_loss')\n",
        "plt.xlabel('Epochs')\n",
        "plt.ylabel('Loss')\n",
        "plt.legend()\n",
        "plt.show()\n"
      ],
      "metadata": {
        "colab": {
          "base_uri": "https://localhost:8080/",
          "height": 1000
        },
        "id": "ktnbOEShAGhw",
        "outputId": "b0204ffa-a346-45d4-bc80-b2431f0c9efa"
      },
      "execution_count": null,
      "outputs": [
        {
          "output_type": "stream",
          "name": "stdout",
          "text": [
            "Epoch 1/10\n",
            "\u001b[1m49/49\u001b[0m \u001b[32m━━━━━━━━━━━━━━━━━━━━\u001b[0m\u001b[37m\u001b[0m \u001b[1m22s\u001b[0m 428ms/step - accuracy: 0.7697 - loss: 0.6156 - val_accuracy: 0.8639 - val_loss: 0.3753\n",
            "Epoch 2/10\n",
            "\u001b[1m49/49\u001b[0m \u001b[32m━━━━━━━━━━━━━━━━━━━━\u001b[0m\u001b[37m\u001b[0m \u001b[1m41s\u001b[0m 436ms/step - accuracy: 0.8955 - loss: 0.2991 - val_accuracy: 0.8795 - val_loss: 0.2952\n",
            "Epoch 3/10\n",
            "\u001b[1m49/49\u001b[0m \u001b[32m━━━━━━━━━━━━━━━━━━━━\u001b[0m\u001b[37m\u001b[0m \u001b[1m37s\u001b[0m 369ms/step - accuracy: 0.9267 - loss: 0.2059 - val_accuracy: 0.8774 - val_loss: 0.2898\n",
            "Epoch 4/10\n",
            "\u001b[1m49/49\u001b[0m \u001b[32m━━━━━━━━━━━━━━━━━━━━\u001b[0m\u001b[37m\u001b[0m \u001b[1m22s\u001b[0m 393ms/step - accuracy: 0.9455 - loss: 0.1626 - val_accuracy: 0.8728 - val_loss: 0.3014\n",
            "Epoch 5/10\n",
            "\u001b[1m49/49\u001b[0m \u001b[32m━━━━━━━━━━━━━━━━━━━━\u001b[0m\u001b[37m\u001b[0m \u001b[1m17s\u001b[0m 348ms/step - accuracy: 0.9535 - loss: 0.1415 - val_accuracy: 0.8674 - val_loss: 0.3203\n",
            "Epoch 6/10\n",
            "\u001b[1m49/49\u001b[0m \u001b[32m━━━━━━━━━━━━━━━━━━━━\u001b[0m\u001b[37m\u001b[0m \u001b[1m21s\u001b[0m 351ms/step - accuracy: 0.9637 - loss: 0.1186 - val_accuracy: 0.8629 - val_loss: 0.3423\n",
            "Epoch 7/10\n",
            "\u001b[1m49/49\u001b[0m \u001b[32m━━━━━━━━━━━━━━━━━━━━\u001b[0m\u001b[37m\u001b[0m \u001b[1m21s\u001b[0m 352ms/step - accuracy: 0.9703 - loss: 0.1018 - val_accuracy: 0.8576 - val_loss: 0.3674\n",
            "Epoch 8/10\n",
            "\u001b[1m49/49\u001b[0m \u001b[32m━━━━━━━━━━━━━━━━━━━━\u001b[0m\u001b[37m\u001b[0m \u001b[1m23s\u001b[0m 470ms/step - accuracy: 0.9779 - loss: 0.0868 - val_accuracy: 0.8551 - val_loss: 0.3897\n",
            "Epoch 9/10\n",
            "\u001b[1m49/49\u001b[0m \u001b[32m━━━━━━━━━━━━━━━━━━━━\u001b[0m\u001b[37m\u001b[0m \u001b[1m37s\u001b[0m 377ms/step - accuracy: 0.9823 - loss: 0.0733 - val_accuracy: 0.8521 - val_loss: 0.4183\n",
            "Epoch 10/10\n",
            "\u001b[1m49/49\u001b[0m \u001b[32m━━━━━━━━━━━━━━━━━━━━\u001b[0m\u001b[37m\u001b[0m \u001b[1m17s\u001b[0m 347ms/step - accuracy: 0.9866 - loss: 0.0631 - val_accuracy: 0.8483 - val_loss: 0.4455\n"
          ]
        },
        {
          "output_type": "display_data",
          "data": {
            "text/plain": [
              "<Figure size 640x480 with 1 Axes>"
            ],
            "image/png": "[encoded data removed]"
          },
          "metadata": {}
        },
        {
          "output_type": "display_data",
          "data": {
            "text/plain": [
              "<Figure size 640x480 with 1 Axes>"
            ],
            "image/png": "[encoded data removed]"
          },
          "metadata": {}
        }
      ]
    },
    {
      "cell_type": "markdown",
      "source": [
        "**Model Training** Self-Directed Learning\n",
        "\n",
        "Ask the following questions to explore and understand the concepts related to training neural networks, interpreting accuracy and loss graphs, and improving model performance.\n",
        "\n",
        "You may ask the [Sentiment Analysis Tutor GPT](https://chatgpt.com/g/g-xP5xBzqnx-sentiment-analysis-tutor) for information.\n",
        "\n",
        "1. Understanding the training process\n",
        "  - What is an epoch, and why do we use multiple epochs during training?\n",
        "  - What is batch size, and how does it affect the training process?\n",
        "  - What is the purpose of using validation data during training?\n",
        "  - How does validation data help in preventing overfitting?\n",
        "\n",
        "2. Understanding the graphs\n",
        "  - What does the training accuracy graph tell you about the model's learning process?\n",
        "  - What does the validation accuracy graph indicate about the model's ability to generalize?\n",
        "  - How can you interpret the training loss graph?\n",
        "  - What insights can you gain from the validation loss graph?\n",
        "\n",
        "3. Interpreting different scenarios\n",
        "  - If training accuracy is increasing but validation accuracy is not, what might be happening?\n",
        "  - If both training and validation loss are decreasing and stabilizing, what does this indicate about the model?\n",
        "  - What does it mean if the training loss decreases to near zero but the validation loss starts to increase?"
      ],
      "metadata": {
        "id": "0utooLgIJyea"
      }
    },
    {
      "cell_type": "markdown",
      "source": [
        "## Step 4: Evaluating the Model:\n",
        "  - Evaluate the model on the test set.\n",
        "  - Generate and analyze the classification report.\n"
      ],
      "metadata": {
        "id": "gmXLYxSv_tbI"
      }
    },
    {
      "cell_type": "code",
      "source": [
        "# Evaluate the model\n",
        "loss, accuracy = model.evaluate(X_test_tfidf, y_test, verbose=0)\n",
        "print(f'Test accuracy: {accuracy:.4f}')\n",
        "print(f'Test loss: {loss:.4f}')\n",
        "\n",
        "# Generate the classification report\n",
        "from sklearn.metrics import classification_report\n",
        "\n",
        "# Predict the labels for the test set\n",
        "y_pred = (model.predict(X_test_tfidf) > 0.5).astype(\"int32\")\n",
        "\n",
        "# Print the classification report\n",
        "print(classification_report(y_test, y_pred, target_names=['Negative', 'Positive']))\n"
      ],
      "metadata": {
        "colab": {
          "base_uri": "https://localhost:8080/"
        },
        "id": "x_gQAzHeYHUw",
        "outputId": "57fc97bf-446e-4a67-fa5d-3fc8cec4993b"
      },
      "execution_count": null,
      "outputs": [
        {
          "output_type": "stream",
          "name": "stdout",
          "text": [
            "Test accuracy: 0.8483\n",
            "Test loss: 0.4455\n",
            "\u001b[1m782/782\u001b[0m \u001b[32m━━━━━━━━━━━━━━━━━━━━\u001b[0m\u001b[37m\u001b[0m \u001b[1m10s\u001b[0m 12ms/step\n",
            "              precision    recall  f1-score   support\n",
            "\n",
            "    Negative       0.84      0.86      0.85     12500\n",
            "    Positive       0.86      0.84      0.85     12500\n",
            "\n",
            "    accuracy                           0.85     25000\n",
            "   macro avg       0.85      0.85      0.85     25000\n",
            "weighted avg       0.85      0.85      0.85     25000\n",
            "\n"
          ]
        }
      ]
    },
    {
      "cell_type": "markdown",
      "source": [
        "**Model Evaluation** Self-Directed Learning\n",
        "\n",
        "After running this code, you should:\n",
        "\n",
        "- Analyse the test accuracy and loss to understand the model’s performance on unseen data.\n",
        "- Examine the classification report to get detailed insights into how well the model is classifying positive and negative reviews, focusing on metrics like precision, recall, and F1-score.\n",
        "\n",
        "These steps will help you evaluate the effectiveness of your neural network for sentiment analysis.\n",
        "\n",
        "Explore the following questions to deepen your understanding of the concepts. You may ask the [Sentiment Analysis Tutor GPT](https://chatgpt.com/g/g-xP5xBzqnx-sentiment-analysis-tutor) for information.\n",
        "\n",
        "1. Training Process\n",
        "  - How do you interpret the training and validation accuracy/loss plots?\n",
        "  - What does it mean if there is a large gap between training and validation accuracy?\n",
        "\n",
        "2. Model Performance\n",
        "  - How do you evaluate the model’s performance on the test set?\n",
        "  - What metrics are used to assess the performance of a sentiment analysis model?\n",
        "  - How does the classification report help in understanding model performance?"
      ],
      "metadata": {
        "id": "xG7sr0Y31SMW"
      }
    },
    {
      "cell_type": "markdown",
      "source": [
        "**Model Performance Analysis** Self-Directed Learning\n",
        "\n",
        "Ask the following questions to learn more about model performance, and improving model performance.\n",
        "\n",
        "You may ask the [Sentiment Analysis Tutor GPT](https://chatgpt.com/g/g-xP5xBzqnx-sentiment-analysis-tutor) for information.\n",
        "\n",
        "1. Overfitting and Underfitting\n",
        "  - What is overfitting, and how can you identify it from the graphs?\n",
        "  - What are some strategies to prevent or reduce overfitting?\n",
        "  - What is underfitting, and how can you identify it from the graphs?\n",
        "  - What changes can you make to the model to address underfitting?\n",
        "\n",
        "2. Improving the Model\n",
        "  - How can increasing the complexity of the model help with underfitting?\n",
        "  - What is dropout, and how does it help in preventing overfitting?\n",
        "  - How can you use early stopping to improve the model’s performance?\n",
        "  - What role does regularization play in improving the model?\n"
      ],
      "metadata": {
        "id": "nPJe-B5bR23O"
      }
    },
    {
      "cell_type": "code",
      "source": [],
      "metadata": {
        "id": "gIFUzgU2AG-n"
      },
      "execution_count": null,
      "outputs": []
    },
    {
      "cell_type": "markdown",
      "source": [
        "## Step 5: Questions and Analysis:\n",
        "  - Discuss the model’s performance and training process.\n",
        "  - Suggest improvements and modifications to the network structure."
      ],
      "metadata": {
        "id": "C05Xqayf_t06"
      }
    },
    {
      "cell_type": "markdown",
      "source": [
        "## Encouraging Critical Thinking: Questions for Your Report##\n",
        "\n",
        "You are required to answer the following questions in your report. Experiment with the Python codes above to produce evidence and support your answers. Provide detailed explanations and include graphs or metrics where applicable.\n",
        "\n",
        "You may ask the [Sentiment Analysis Tutor GPT](https://chatgpt.com/g/g-xP5xBzqnx-sentiment-analysis-tutor) for information.\n",
        "\n",
        "**Analyzing Results**\n",
        "\n",
        "1. **What might be the reasons for a discrepancy between training and validation accuracy?**\n",
        "   - **Experiment:** Train the model and observe the accuracy graphs. Identify and explain potential reasons for discrepancies.\n",
        "   \n",
        "2. **How can the choice of activation functions impact the model’s performance?**\n",
        "   - **Experiment:** Change the activation functions (e.g., use `tanh` or `relu` in different layers) and analyze the effects on accuracy and loss.\n",
        "   - Example:\n",
        "     ```python\n",
        "     model = Sequential()\n",
        "     model.add(Dense(512, input_shape=(input_shape,), activation='tanh'))\n",
        "     model.add(Dropout(0.5))\n",
        "     model.add(Dense(1, activation='sigmoid'))\n",
        "     ```\n",
        "\n",
        "3. **How does the optimizer affect the training process and the final model performance?**\n",
        "   - **Experiment:** Use different optimizers (e.g., `adam`, `sgd`, `rmsprop`) and compare the training and validation performance.\n",
        "   - Example:\n",
        "     ```python\n",
        "     model.compile(optimizer='sgd', loss='binary_crossentropy', metrics=['accuracy'])\n",
        "     ```\n",
        "\n",
        "### Experimentation:\n",
        "\n",
        "1. **How would changing the number of epochs affect the training process?**\n",
        "   - **Experiment:** Train the model with different numbers of epochs (e.g., 5, 10, 20) and observe the changes in accuracy and loss over time.\n",
        "   - Example:\n",
        "     ```python\n",
        "     history = model.fit(X_train_tfidf, y_train, epochs=20, batch_size=512, validation_data=(X_test_tfidf, y_test), verbose=1)\n",
        "     ```\n",
        "\n",
        "2. **What happens if you use a smaller or larger batch size?**\n",
        "   - **Experiment:** Train the model with different batch sizes (e.g., 64, 128, 512) and compare the training speed and model performance.\n",
        "   - Example:\n",
        "     ```python\n",
        "     history = model.fit(X_train_tfidf, y_train, epochs=10, batch_size=64, validation_data=(X_test_tfidf, y_test), verbose=1)\n",
        "     ```\n",
        "\n",
        "3. **How can you experiment with different model architectures to improve performance?**\n",
        "   - **Experiment:** Modify the model architecture by adding or removing layers, changing the number of neurons, or using different types of layers (e.g., convolutional layers, LSTM layers) and evaluate the impact on performance.\n",
        "   - Example:\n",
        "     ```python\n",
        "     model = Sequential()\n",
        "     model.add(Dense(512, input_shape=(input_shape,), activation='relu'))\n",
        "     model.add(Dropout(0.5))\n",
        "     model.add(Dense(256, activation='relu'))\n",
        "     model.add(Dropout(0.5))\n",
        "     model.add(Dense(1, activation='sigmoid'))\n",
        "     ```\n",
        "\n",
        "### Conclusion\n",
        "\n",
        "By answering these questions and providing experimental evidence, you will gain a deeper understanding of the model training process, the importance of various hyperparameters, and techniques to improve model performance. Ensure to include graphs, metrics, and detailed explanations in your report to support your findings.\n"
      ],
      "metadata": {
        "id": "YBnyY0E-UQTe"
      }
    },
    {
      "cell_type": "markdown",
      "source": [
        "# Sentiment Analysis with Deep Learning (Graded)\n",
        "\n",
        "\n",
        "*   Objective: Build a LSTM network for sentiment analysis using deep learning techniques.\n",
        "*   Activities in this section will be graded.\n",
        "* Skeleton working Python codes are provided. This assessment encourages you to explore, learn independently, and develop your own insights. Demonstrating your understanding and ability to solve problems will help you achieve good marks.\n",
        "* Students are welcome to change the code and experiment with ideas. You will not lose marks for trying out ideas, even if they do not yield successful results."
      ],
      "metadata": {
        "id": "PCOXaRHu5E9X"
      }
    },
    {
      "cell_type": "markdown",
      "source": [
        "### Step 1: Data Loading and Preprocessing (10 Marks)"
      ],
      "metadata": {
        "id": "CmxHPEXglS2v"
      }
    },
    {
      "cell_type": "code",
      "metadata": {
        "id": "VyKdqy5XcchJ"
      },
      "source": [
        "# Load IMDB dataset\n",
        "imdb = tf.keras.datasets.imdb\n",
        "(x_train, y_train), (x_test, y_test) = imdb.load_data(num_words=10000)\n",
        "\n",
        "# Preprocess data with padding\n",
        "from tensorflow.keras.preprocessing.sequence import pad_sequences\n",
        "max_len = 100\n",
        "x_train = pad_sequences(x_train, maxlen=max_len)\n",
        "x_test = pad_sequences(x_test, maxlen=max_len)"
      ],
      "execution_count": null,
      "outputs": []
    },
    {
      "cell_type": "markdown",
      "source": [
        "\n",
        "* Thorough cleaning and preprocessing of data.\n",
        "* Explain if there is any difference in data preparation between the neural network and deep learning approaches.\n",
        "* Explain your understanding of this step and the corresponding Python code.\n",
        "\n",
        "#### **Provide Answers Below:**\n",
        "\n",
        "\n"
      ],
      "metadata": {
        "id": "aEoFHVq9lzhC"
      }
    },
    {
      "cell_type": "markdown",
      "source": [
        "### Step 2: Building the LSTM Model (10 Marks)"
      ],
      "metadata": {
        "id": "EtrTEv0Hp2bU"
      }
    },
    {
      "cell_type": "code",
      "source": [
        "# Build the LSTM model\n",
        "model = Sequential()\n",
        "model.add(tf.keras.layers.Embedding(input_dim=10000, output_dim=128, input_length=max_len))\n",
        "model.add(tf.keras.layers.LSTM(64, dropout=0.2, recurrent_dropout=0.2))\n",
        "model.add(Dense(1, activation='sigmoid'))\n",
        "\n",
        "# Compile the model\n",
        "model.compile(optimizer='adam', loss='binary_crossentropy', metrics=['accuracy'])"
      ],
      "metadata": {
        "colab": {
          "base_uri": "https://localhost:8080/"
        },
        "id": "oOQirpt3lemr",
        "outputId": "a8341b12-87f6-48c2-cad9-0d5eea4f4b80"
      },
      "execution_count": null,
      "outputs": [
        {
          "output_type": "stream",
          "name": "stderr",
          "text": [
            "/usr/local/lib/python3.10/dist-packages/keras/src/layers/core/embedding.py:90: UserWarning: Argument `input_length` is deprecated. Just remove it.\n",
            "  warnings.warn(\n"
          ]
        }
      ]
    },
    {
      "cell_type": "markdown",
      "source": [
        "* Construction of a well-designed LSTM model.\n",
        "* Explain the difference in model building between the neural network and deep learning approaches.\n",
        "* Explain your understanding of this step and the corresponding Python code including your own code.\n",
        "\n",
        "#### **Provide Answers Below:**"
      ],
      "metadata": {
        "id": "vy-0T7YwqYFa"
      }
    },
    {
      "cell_type": "markdown",
      "source": [
        "### Step 3: Training the LSTM Model (10 Marks)"
      ],
      "metadata": {
        "id": "Gl7xZlqcqYC0"
      }
    },
    {
      "cell_type": "code",
      "source": [
        "# Train the model\n",
        "history = model.fit(x_train, y_train, epochs=3, batch_size=64, validation_split=0.2)"
      ],
      "metadata": {
        "colab": {
          "base_uri": "https://localhost:8080/"
        },
        "id": "rYV216g0qBz3",
        "outputId": "ab0a5242-5ef9-4f53-a993-6067db54209f"
      },
      "execution_count": null,
      "outputs": [
        {
          "output_type": "stream",
          "name": "stdout",
          "text": [
            "Epoch 1/3\n",
            "\u001b[1m313/313\u001b[0m \u001b[32m━━━━━━━━━━━━━━━━━━━━\u001b[0m\u001b[37m\u001b[0m \u001b[1m49s\u001b[0m 157ms/step - accuracy: 0.9189 - loss: 0.2186 - val_accuracy: 0.8226 - val_loss: 0.4130\n",
            "Epoch 2/3\n",
            "\u001b[1m313/313\u001b[0m \u001b[32m━━━━━━━━━━━━━━━━━━━━\u001b[0m\u001b[37m\u001b[0m \u001b[1m53s\u001b[0m 168ms/step - accuracy: 0.9346 - loss: 0.1797 - val_accuracy: 0.8224 - val_loss: 0.4599\n",
            "Epoch 3/3\n",
            "\u001b[1m313/313\u001b[0m \u001b[32m━━━━━━━━━━━━━━━━━━━━\u001b[0m\u001b[37m\u001b[0m \u001b[1m81s\u001b[0m 165ms/step - accuracy: 0.9455 - loss: 0.1444 - val_accuracy: 0.8126 - val_loss: 0.4978\n"
          ]
        }
      ]
    },
    {
      "cell_type": "markdown",
      "source": [
        "* Training with well-chosen parameters, avoiding overfitting or underfitting.\n",
        "* Explain your understanding of this step and the corresponding Python code including your own code.\n",
        "* Explain your understanding of the parameters.\n",
        "\n",
        "#### **Provide Answers Below:**"
      ],
      "metadata": {
        "id": "UjDWTOwir-1v"
      }
    },
    {
      "cell_type": "markdown",
      "source": [
        "### Step 4: Evaluating the LSTM Model (10 Marks)"
      ],
      "metadata": {
        "id": "mJNy-hPituFZ"
      }
    },
    {
      "cell_type": "code",
      "source": [
        "# Evaluate the model on test data\n",
        "test_loss, test_acc = model.evaluate(x_test, y_test)\n",
        "print(f'Test accuracy: {test_acc:.4f}')"
      ],
      "metadata": {
        "colab": {
          "base_uri": "https://localhost:8080/"
        },
        "id": "wbmLz6FSqNyX",
        "outputId": "4b313cc5-cec7-4f2b-b46d-76e47d37ca7d"
      },
      "execution_count": null,
      "outputs": [
        {
          "output_type": "stream",
          "name": "stdout",
          "text": [
            "\u001b[1m782/782\u001b[0m \u001b[32m━━━━━━━━━━━━━━━━━━━━\u001b[0m\u001b[37m\u001b[0m \u001b[1m20s\u001b[0m 25ms/step - accuracy: 0.8337 - loss: 0.3921\n",
            "Test accuracy: 0.8354\n"
          ]
        }
      ]
    },
    {
      "cell_type": "markdown",
      "source": [
        "* Explain your understanding of this step and the corresponding Python code including your own code.\n",
        "* Explain your understanding different evaluation metrics.\n",
        "* Interpret the model's performance meaningfully.\n",
        "\n",
        "#### **Provide Answers Below:**"
      ],
      "metadata": {
        "id": "c2AgbVrAt3XB"
      }
    },
    {
      "cell_type": "markdown",
      "source": [
        "### Step 5: Model Performance Analysis (20 Marks)"
      ],
      "metadata": {
        "id": "nOWzEN24voEz"
      }
    },
    {
      "cell_type": "markdown",
      "source": [
        "* What is the test accuracy of your LSTM model?\n",
        "* How does it compare to the neural network in Part 1?\n",
        "* What changes can you suggest to improve the LSTM model’s performance?\n",
        "* How did the different architectures impact performance?\n",
        "\n",
        "#### **Provide Answers Below:**"
      ],
      "metadata": {
        "id": "nXbg0nFJv6ag"
      }
    },
    {
      "cell_type": "markdown",
      "source": [
        "### Step 6: Experimenting with Different Parameters (20 Marks)"
      ],
      "metadata": {
        "id": "U0PLonALwRLB"
      }
    },
    {
      "cell_type": "markdown",
      "source": [
        "* Try experimenting with different hyperparameters (e.g., increasing epochs or adjusting dropout) and document your findings.\n",
        "* Discuss the challenges you encountered in improving performance.\n",
        "\n",
        "#### **Provide Answers Below:**"
      ],
      "metadata": {
        "id": "OJJhFyCFwwb7"
      }
    },
    {
      "cell_type": "markdown",
      "source": [
        "### Step 7: Finding the Optimised Solution (20 Marks)"
      ],
      "metadata": {
        "id": "pI2gpsqaxEPw"
      }
    },
    {
      "cell_type": "markdown",
      "source": [
        "* Reflect on the impact of hyperparameters in finding the optimal model configuration. Provide specific examples.\n",
        "* Were there any limitations in terms of computational power or training time? How did this affect your ability to find the best solution?\n",
        "* Research and discuss the limitations of traditional Neural Networks versus LSTM for sentiment analysis.\n",
        "* Why might deep learning models like LSTM perform better on sequential data such as text?\n",
        "* What research did you find on advanced techniques such as BERT that could further improve model performance?\n",
        "\n",
        "#### **Provide Answers Below:**\n"
      ],
      "metadata": {
        "id": "RikLtt0YxJqX"
      }
    },
    {
      "cell_type": "markdown",
      "source": [
        "## Acceptable AI Use Level, Reflection and Feedback\n",
        "\n",
        "Note: Your responses to the following questions are an important part of your learning experience. While these questions are not directly graded, your feedback will provide valuable insights into your actual usage and learning with the Colab notebook and GPT tutor. This information will be considered as part of your overall assessment and can contribute to your final marks. We encourage you to provide detailed and honest feedback to help us improve these tools for future students.\n",
        "\n",
        "### Acceptable AI Use Level (University Requirement)\n",
        "- Provide a brief description (approximately 100 words) of how AI was used in the research and drafting process, including specific tools used, and the prompts you have used. Screenshots or downloads from the AI used must be submitted with the assessment, along with at least one draft to show your own work against the AI work.\n",
        "#### ***Provide Answers Below:***\n",
        "\n",
        "\n",
        "\n",
        "### General Experience\n",
        "- How would you rate your overall experience with the Colab notebook and the GPT tutor? Please provide specific examples for each.\n",
        "#### ***Provide Answers Below:***\n",
        "\n",
        "\n",
        "\n",
        "### Learning Outcomes\n",
        "- How confident do you feel about building neural networks and LSTMs after completing the assessment using these tools? What specific skills or knowledge did you gain from each?\n",
        "#### ***Provide Answers Below:***\n",
        "\n",
        "\n",
        "\n",
        "### Usability and Accessibility\n",
        "- How easy was it to navigate and use the Colab notebook and the GPT tutor? Did you encounter any technical issues with either tool?\n",
        "#### ***Provide Answers Below:***\n",
        "\n",
        "\n",
        "\n",
        "### Feedback on the GPT Tutor\n",
        "- How effective was the GPT tutor in answering your questions and helping you understand the assessment tasks?\n",
        "#### ***Provide Answers Below:***\n",
        "\n",
        "\n",
        "\n",
        "### Reflection and Suggestions\n",
        "- What challenges did you face during the practical assessment, and how did you overcome them? Please specify if these challenges were related to the Colab notebook, the GPT tutor, or both.\n",
        "#### ***Provide Answers Below:***\n",
        "\n",
        "\n",
        "\n",
        "- Do you have any suggestions for improving the Colab notebook or the GPT tutor?\n",
        "#### ***Provide Answers Below:***\n",
        "\n",
        "\n",
        "\n",
        "### Future Use\n",
        "- Would you recommend these tools to other students? Why or why not? How do you think these tools could be used in other areas of study?\n",
        "#### ***Provide Answers Below:***\n",
        "\n",
        "\n"
      ],
      "metadata": {
        "id": "Ds-J2GRe15B9"
      }
    }
  ]
}